{
 "cells": [
  {
   "cell_type": "code",
   "execution_count": 1,
   "metadata": {
    "_cell_guid": "b1076dfc-b9ad-4769-8c92-a6c4dae69d19",
    "_uuid": "8f2839f25d086af736a60e9eeb907d3b93b6e0e5"
   },
   "outputs": [],
   "source": [
    "import numpy as np\n",
    "import pandas as pd\n",
    "import matplotlib.pyplot as plt\n",
    "import seaborn as sns\n",
    "import gc\n",
    "from sklearn.model_selection import KFold\n",
    "from sklearn.preprocessing import LabelEncoder\n",
    "import matplotlib.pyplot as plt\n",
    "import seaborn as sns\n",
    "from sklearn.metrics import mean_squared_error\n",
    "\n",
    "build_df = pd.read_csv(\"../input/ashrae-energy-prediction/building_metadata.csv\")\n",
    "sample = pd.read_csv(\"../input/ashrae-energy-prediction/sample_submission.csv\")\n",
    "test_df = pd.read_csv(\"../input/ashrae-energy-prediction/test.csv\")\n",
    "#train_df = pd.read_csv(\"../input/ashrae-energy-prediction/train.csv\")\n",
    "#weather_test_df = pd.read_csv(\"../input/ashrae-energy-prediction/weather_test.csv\")\n",
    "#weather_train_df = pd.read_csv(\"../input/ashrae-energy-prediction/weather_train.csv\")"
   ]
  },
  {
   "cell_type": "code",
   "execution_count": 2,
   "metadata": {
    "_cell_guid": "79c7e3d0-c299-4dcb-8224-4455121ee9b0",
    "_uuid": "d629ff2d2480ee46fbb7e2d37f6b5fab8052498a"
   },
   "outputs": [],
   "source": [
    "np.set_printoptions(suppress=True)\n",
    "pd.set_option('precision', 5) #设置精度\n",
    "pd.set_option('display.float_format', lambda x: '%.5f' % x)\n",
    "#显示所有列\n",
    "pd.set_option('display.max_columns', None)\n",
    "#显示所有行\n",
    "pd.set_option('display.max_rows', None)"
   ]
  },
  {
   "cell_type": "code",
   "execution_count": 3,
   "metadata": {},
   "outputs": [],
   "source": [
    "## Function to reduce the DF size\n",
    "def reduce_mem_usage(df, verbose=True):\n",
    "    numerics = ['int16', 'int32', 'int64', 'float16', 'float32', 'float64']\n",
    "    start_mem = df.memory_usage().sum() / 1024**2    \n",
    "    for col in df.columns:\n",
    "        col_type = df[col].dtypes\n",
    "        if col_type in numerics:\n",
    "            c_min = df[col].min()\n",
    "            c_max = df[col].max()\n",
    "            if str(col_type)[:3] == 'int':\n",
    "                if c_min > np.iinfo(np.int8).min and c_max < np.iinfo(np.int8).max:\n",
    "                    df[col] = df[col].astype(np.int8)\n",
    "                elif c_min > np.iinfo(np.int16).min and c_max < np.iinfo(np.int16).max:\n",
    "                    df[col] = df[col].astype(np.int16)\n",
    "                elif c_min > np.iinfo(np.int32).min and c_max < np.iinfo(np.int32).max:\n",
    "                    df[col] = df[col].astype(np.int32)\n",
    "                elif c_min > np.iinfo(np.int64).min and c_max < np.iinfo(np.int64).max:\n",
    "                    df[col] = df[col].astype(np.int64)  \n",
    "            else:\n",
    "                if c_min > np.finfo(np.float16).min and c_max < np.finfo(np.float16).max:\n",
    "                    df[col] = df[col].astype(np.float16)\n",
    "                elif c_min > np.finfo(np.float32).min and c_max < np.finfo(np.float32).max:\n",
    "                    df[col] = df[col].astype(np.float32)\n",
    "                else:\n",
    "                    df[col] = df[col].astype(np.float64)    \n",
    "    end_mem = df.memory_usage().sum() / 1024**2\n",
    "    if verbose: print('Mem. usage decreased to {:5.2f} Mb ({:.1f}% reduction)'.format(end_mem, 100 * (start_mem - end_mem) / start_mem))\n",
    "    return df"
   ]
  },
  {
   "cell_type": "code",
   "execution_count": 4,
   "metadata": {},
   "outputs": [
    {
     "name": "stdout",
     "output_type": "stream",
     "text": [
      "Mem. usage decreased to 596.49 Mb (53.1% reduction)\n",
      "Mem. usage decreased to  0.03 Mb (60.3% reduction)\n"
     ]
    }
   ],
   "source": [
    "#train_df = reduce_mem_usage(train_df)\n",
    "test_df = reduce_mem_usage(test_df)\n",
    "#weather_train_df = reduce_mem_usage(weather_train_df)\n",
    "#weather_test_df = reduce_mem_usage(weather_test_df)\n",
    "build_df = reduce_mem_usage(build_df)"
   ]
  },
  {
   "cell_type": "code",
   "execution_count": 5,
   "metadata": {},
   "outputs": [],
   "source": [
    "leak_df = pd.read_feather('../input/ashrae-leak-data-station/leak.feather')\n",
    "leak_df.fillna(0, inplace=True)\n",
    "leak_df = leak_df[(leak_df.timestamp.dt.year > 2016) & (leak_df.timestamp.dt.year < 2019)]\n",
    "leak_df.loc[leak_df.meter_reading < 0, 'meter_reading'] = 0 # remove large negative values\n",
    "leak_df = leak_df[leak_df.building_id!=245]"
   ]
  },
  {
   "cell_type": "code",
   "execution_count": 6,
   "metadata": {},
   "outputs": [
    {
     "name": "stdout",
     "output_type": "stream",
     "text": [
      "another-1-08-lb-no-leak\t\t\t   ashrae-leak-data-station\r\n",
      "ashrae-energy-prediction\t\t   kernel6ff2111519\r\n",
      "ashrae-kfold-lightgbm-without-building-id  lightgbm114\r\n"
     ]
    }
   ],
   "source": [
    "! ls ../input"
   ]
  },
  {
   "cell_type": "code",
   "execution_count": 7,
   "metadata": {},
   "outputs": [
    {
     "name": "stderr",
     "output_type": "stream",
     "text": [
      "/opt/conda/lib/python3.6/site-packages/numpy/lib/arraysetops.py:568: FutureWarning: elementwise comparison failed; returning scalar instead, but in the future will perform elementwise comparison\n",
      "  mask |= (ar1 == a)\n"
     ]
    }
   ],
   "source": [
    "sample_submission1 = pd.read_csv('../input/ashrae-kfold-lightgbm-without-building-id/submission.csv', index_col=0)\n",
    "sample_submission2 = pd.read_csv('../input/another-1-08-lb-no-leak/fe2_lgbm.csv', index_col=0)\n",
    "sample_submission3 = pd.read_csv('../input/kernel6ff2111519/lgb-window2.csv', index_col=0)"
   ]
  },
  {
   "cell_type": "code",
   "execution_count": 8,
   "metadata": {},
   "outputs": [
    {
     "name": "stdout",
     "output_type": "stream",
     "text": [
      "5\n",
      "Mem. usage decreased to 1073.68 Mb (30.8% reduction)\n",
      "Mem. usage decreased to 276.03 Mb (40.0% reduction)\n"
     ]
    }
   ],
   "source": [
    "test_df['pred1'] = sample_submission1.meter_reading\n",
    "test_df['pred2'] = sample_submission2.meter_reading\n",
    "test_df['pred3'] = sample_submission3.meter_reading\n",
    "print('5')\n",
    "del  sample_submission1,  sample_submission2,  sample_submission3\n",
    "gc.collect()\n",
    "\n",
    "test_df = reduce_mem_usage(test_df)\n",
    "leak_df = reduce_mem_usage(leak_df)"
   ]
  },
  {
   "cell_type": "code",
   "execution_count": 9,
   "metadata": {},
   "outputs": [],
   "source": [
    "leak_df['meter']=leak_df['meter'].apply('int8')\n",
    "test_df['timestamp']=pd.to_datetime(test_df['timestamp'])"
   ]
  },
  {
   "cell_type": "code",
   "execution_count": 10,
   "metadata": {},
   "outputs": [],
   "source": [
    "leak_df = leak_df.merge(test_df[['building_id', 'meter', 'timestamp', 'pred1', 'pred2', 'pred3', 'row_id']], left_on = ['building_id', 'meter', 'timestamp'], right_on = ['building_id', 'meter', 'timestamp'], how = \"left\")\n",
    "leak_df = leak_df.merge(build_df[['building_id', 'site_id']], on='building_id', how='left')"
   ]
  },
  {
   "cell_type": "code",
   "execution_count": 11,
   "metadata": {},
   "outputs": [],
   "source": [
    "leak_df['pred1_l1p'] = np.log1p(leak_df.pred1)\n",
    "leak_df['pred2_l1p'] = np.log1p(leak_df.pred2)\n",
    "leak_df['pred3_l1p'] = np.log1p(leak_df.pred3)\n",
    "leak_df['meter_reading_l1p'] = np.log1p(leak_df.meter_reading)"
   ]
  },
  {
   "cell_type": "code",
   "execution_count": 12,
   "metadata": {},
   "outputs": [
    {
     "data": {
      "text/html": [
       "<div>\n",
       "<style scoped>\n",
       "    .dataframe tbody tr th:only-of-type {\n",
       "        vertical-align: middle;\n",
       "    }\n",
       "\n",
       "    .dataframe tbody tr th {\n",
       "        vertical-align: top;\n",
       "    }\n",
       "\n",
       "    .dataframe thead th {\n",
       "        text-align: right;\n",
       "    }\n",
       "</style>\n",
       "<table border=\"1\" class=\"dataframe\">\n",
       "  <thead>\n",
       "    <tr style=\"text-align: right;\">\n",
       "      <th></th>\n",
       "      <th>building_id</th>\n",
       "      <th>meter</th>\n",
       "      <th>meter_reading</th>\n",
       "      <th>timestamp</th>\n",
       "      <th>pred1</th>\n",
       "      <th>pred2</th>\n",
       "      <th>pred3</th>\n",
       "      <th>row_id</th>\n",
       "      <th>site_id</th>\n",
       "      <th>pred1_l1p</th>\n",
       "      <th>pred2_l1p</th>\n",
       "      <th>pred3_l1p</th>\n",
       "      <th>meter_reading_l1p</th>\n",
       "    </tr>\n",
       "  </thead>\n",
       "  <tbody>\n",
       "    <tr>\n",
       "      <th>0</th>\n",
       "      <td>0</td>\n",
       "      <td>0</td>\n",
       "      <td>173.37030</td>\n",
       "      <td>2017-01-01</td>\n",
       "      <td>159.97556</td>\n",
       "      <td>146.52629</td>\n",
       "      <td>115.65690</td>\n",
       "      <td>0</td>\n",
       "      <td>0</td>\n",
       "      <td>5.08125</td>\n",
       "      <td>4.99401</td>\n",
       "      <td>4.75924</td>\n",
       "      <td>5.16118</td>\n",
       "    </tr>\n",
       "    <tr>\n",
       "      <th>1</th>\n",
       "      <td>1</td>\n",
       "      <td>0</td>\n",
       "      <td>53.51272</td>\n",
       "      <td>2017-01-01</td>\n",
       "      <td>72.20270</td>\n",
       "      <td>82.68028</td>\n",
       "      <td>68.73670</td>\n",
       "      <td>1</td>\n",
       "      <td>0</td>\n",
       "      <td>4.29323</td>\n",
       "      <td>4.42700</td>\n",
       "      <td>4.24473</td>\n",
       "      <td>3.99843</td>\n",
       "    </tr>\n",
       "    <tr>\n",
       "      <th>2</th>\n",
       "      <td>2</td>\n",
       "      <td>0</td>\n",
       "      <td>6.14304</td>\n",
       "      <td>2017-01-01</td>\n",
       "      <td>12.16220</td>\n",
       "      <td>9.96421</td>\n",
       "      <td>12.67350</td>\n",
       "      <td>2</td>\n",
       "      <td>0</td>\n",
       "      <td>2.57735</td>\n",
       "      <td>2.39464</td>\n",
       "      <td>2.61546</td>\n",
       "      <td>1.96614</td>\n",
       "    </tr>\n",
       "    <tr>\n",
       "      <th>3</th>\n",
       "      <td>3</td>\n",
       "      <td>0</td>\n",
       "      <td>101.70147</td>\n",
       "      <td>2017-01-01</td>\n",
       "      <td>215.52441</td>\n",
       "      <td>247.37108</td>\n",
       "      <td>255.97020</td>\n",
       "      <td>3</td>\n",
       "      <td>0</td>\n",
       "      <td>5.37770</td>\n",
       "      <td>5.51492</td>\n",
       "      <td>5.54896</td>\n",
       "      <td>4.63183</td>\n",
       "    </tr>\n",
       "    <tr>\n",
       "      <th>4</th>\n",
       "      <td>4</td>\n",
       "      <td>0</td>\n",
       "      <td>1141.24072</td>\n",
       "      <td>2017-01-01</td>\n",
       "      <td>976.01031</td>\n",
       "      <td>1131.21143</td>\n",
       "      <td>857.26392</td>\n",
       "      <td>4</td>\n",
       "      <td>0</td>\n",
       "      <td>6.88450</td>\n",
       "      <td>7.03193</td>\n",
       "      <td>6.75491</td>\n",
       "      <td>7.04075</td>\n",
       "    </tr>\n",
       "  </tbody>\n",
       "</table>\n",
       "</div>"
      ],
      "text/plain": [
       "   building_id  meter  meter_reading  timestamp     pred1      pred2  \\\n",
       "0            0      0      173.37030 2017-01-01 159.97556  146.52629   \n",
       "1            1      0       53.51272 2017-01-01  72.20270   82.68028   \n",
       "2            2      0        6.14304 2017-01-01  12.16220    9.96421   \n",
       "3            3      0      101.70147 2017-01-01 215.52441  247.37108   \n",
       "4            4      0     1141.24072 2017-01-01 976.01031 1131.21143   \n",
       "\n",
       "      pred3  row_id  site_id  pred1_l1p  pred2_l1p  pred3_l1p  \\\n",
       "0 115.65690       0        0    5.08125    4.99401    4.75924   \n",
       "1  68.73670       1        0    4.29323    4.42700    4.24473   \n",
       "2  12.67350       2        0    2.57735    2.39464    2.61546   \n",
       "3 255.97020       3        0    5.37770    5.51492    5.54896   \n",
       "4 857.26392       4        0    6.88450    7.03193    6.75491   \n",
       "\n",
       "   meter_reading_l1p  \n",
       "0            5.16118  \n",
       "1            3.99843  \n",
       "2            1.96614  \n",
       "3            4.63183  \n",
       "4            7.04075  "
      ]
     },
     "execution_count": 12,
     "metadata": {},
     "output_type": "execute_result"
    }
   ],
   "source": [
    "leak_df.head()"
   ]
  },
  {
   "cell_type": "code",
   "execution_count": 13,
   "metadata": {},
   "outputs": [],
   "source": [
    "N = 10\n",
    "scores = np.zeros(N,)\n",
    "for i in range(N):\n",
    "    p = i * 1./N\n",
    "    v = p * leak_df['pred1'].values + (1.-p) * leak_df ['pred3'].values\n",
    "    vl1p = np.log1p(v)\n",
    "    scores[i] = np.sqrt(mean_squared_error(vl1p, leak_df.meter_reading_l1p))"
   ]
  },
  {
   "cell_type": "code",
   "execution_count": 14,
   "metadata": {},
   "outputs": [
    {
     "data": {
      "text/plain": [
       "[<matplotlib.lines.Line2D at 0x7fbc25100400>]"
      ]
     },
     "execution_count": 14,
     "metadata": {},
     "output_type": "execute_result"
    },
    {
     "data": {
      "image/png": "[encoded data removed]",
      "text/plain": [
       "<Figure size 432x288 with 1 Axes>"
      ]
     },
     "metadata": {
      "needs_background": "light"
     },
     "output_type": "display_data"
    }
   ],
   "source": [
    "plt.plot(scores)"
   ]
  },
  {
   "cell_type": "code",
   "execution_count": 15,
   "metadata": {},
   "outputs": [
    {
     "name": "stdout",
     "output_type": "stream",
     "text": [
      "0.9784585237503052 0.5\n"
     ]
    }
   ],
   "source": [
    "best_weight = np.argmin(scores) *  1./N\n",
    "print (scores.min(), best_weight)"
   ]
  },
  {
   "cell_type": "code",
   "execution_count": 16,
   "metadata": {},
   "outputs": [],
   "source": [
    "scores = np.zeros(N,)\n",
    "for i in range(N):\n",
    "    p = i * 1./N\n",
    "    v =  p * (best_weight * leak_df['pred1'].values + (1.-best_weight) * leak_df ['pred3'].values) + (1.-p) * leak_df ['pred2'].values\n",
    "    vl1p = np.log1p(v)\n",
    "    scores[i] = np.sqrt(mean_squared_error(vl1p, leak_df.meter_reading_l1p))"
   ]
  },
  {
   "cell_type": "code",
   "execution_count": 17,
   "metadata": {},
   "outputs": [
    {
     "data": {
      "text/plain": [
       "[<matplotlib.lines.Line2D at 0x7fbc2526b278>]"
      ]
     },
     "execution_count": 17,
     "metadata": {},
     "output_type": "execute_result"
    },
    {
     "data": {
      "image/png": "[encoded data removed]",
      "text/plain": [
       "<Figure size 432x288 with 1 Axes>"
      ]
     },
     "metadata": {
      "needs_background": "light"
     },
     "output_type": "display_data"
    }
   ],
   "source": [
    "plt.plot(scores)"
   ]
  },
  {
   "cell_type": "code",
   "execution_count": 18,
   "metadata": {},
   "outputs": [
    {
     "name": "stdout",
     "output_type": "stream",
     "text": [
      "0.9659334421157837 0.8\n"
     ]
    }
   ],
   "source": [
    "best_weight2 = np.argmin(scores) *  1./N\n",
    "print (scores.min(), best_weight2)"
   ]
  },
  {
   "cell_type": "code",
   "execution_count": 19,
   "metadata": {},
   "outputs": [
    {
     "data": {
      "text/plain": [
       "[0.2,\n",
       " 0.21000000000000002,\n",
       " 0.22,\n",
       " 0.23,\n",
       " 0.24000000000000002,\n",
       " 0.25,\n",
       " 0.26,\n",
       " 0.27,\n",
       " 0.28,\n",
       " 0.29000000000000004,\n",
       " 0.30000000000000004,\n",
       " 0.31,\n",
       " 0.32,\n",
       " 0.33,\n",
       " 0.34,\n",
       " 0.35,\n",
       " 0.36,\n",
       " 0.37,\n",
       " 0.38,\n",
       " 0.39,\n",
       " 0.4,\n",
       " 0.41000000000000003,\n",
       " 0.42000000000000004,\n",
       " 0.43000000000000005,\n",
       " 0.44,\n",
       " 0.45,\n",
       " 0.46,\n",
       " 0.47000000000000003,\n",
       " 0.48000000000000004,\n",
       " 0.49,\n",
       " 0.5]"
      ]
     },
     "execution_count": 19,
     "metadata": {},
     "output_type": "execute_result"
    }
   ],
   "source": [
    "all_combinations = list(np.linspace(0.2,0.5,31))\n",
    "all_combinations"
   ]
  },
  {
   "cell_type": "code",
   "execution_count": 20,
   "metadata": {},
   "outputs": [],
   "source": [
    "import itertools\n",
    "l = [all_combinations, all_combinations, all_combinations]\n",
    "# remember to do the reverse!\n",
    "all_l = list(itertools.product(*l)) + list(itertools.product(*reversed(l)))"
   ]
  },
  {
   "cell_type": "code",
   "execution_count": 21,
   "metadata": {},
   "outputs": [],
   "source": [
    "filtered_combis = [l for l in all_l if l[0] + l[1] + l[2] > 0.93 and l[0] + l[1] + l[2] < 1.03]\n"
   ]
  },
  {
   "cell_type": "code",
   "execution_count": 22,
   "metadata": {},
   "outputs": [
    {
     "name": "stdout",
     "output_type": "stream",
     "text": [
      "12142\n"
     ]
    }
   ],
   "source": [
    "print(len(filtered_combis))\n"
   ]
  },
  {
   "cell_type": "code",
   "execution_count": 23,
   "metadata": {},
   "outputs": [
    {
     "name": "stdout",
     "output_type": "stream",
     "text": [
      "0.9608066\n"
     ]
    }
   ],
   "source": [
    "best_combi = [] # of the form (i, score)\n",
    "for i, combi in enumerate(filtered_combis):\n",
    "    #print(\"Now at: \" + str(i) + \" out of \" + str(len(filtered_combis))) # uncomment to view iterations\n",
    "    score1 = combi[0]\n",
    "    score2 = combi[1]\n",
    "    score3 = combi[2]\n",
    "    v = score1 * leak_df['pred1'].values + score2 * leak_df['pred3'].values + score3 * leak_df['pred2'].values\n",
    "    vl1p = np.log1p(v)\n",
    "    curr_score = np.sqrt(mean_squared_error(vl1p, leak_df.meter_reading_l1p))\n",
    "    \n",
    "    if best_combi:\n",
    "        prev_score = best_combi[0][1]\n",
    "        if curr_score < prev_score:\n",
    "            best_combi[:] = []\n",
    "            best_combi += [(i, curr_score)]\n",
    "    else:\n",
    "        best_combi += [(i, curr_score)]\n",
    "            \n",
    "score = best_combi[0][1]\n",
    "print(score)"
   ]
  },
  {
   "cell_type": "code",
   "execution_count": 24,
   "metadata": {},
   "outputs": [
    {
     "name": "stdout",
     "output_type": "stream",
     "text": [
      "The weights are: w1=0.30000000000000004, w2=0.42000000000000004, w3=0.21000000000000002\n"
     ]
    }
   ],
   "source": [
    "\n",
    "# extract best combination\n",
    "final_combi = filtered_combis[best_combi[0][0]]\n",
    "w1 = final_combi[0]\n",
    "w2 = final_combi[1]\n",
    "w3 = final_combi[2]\n",
    "print(\"The weights are: w1=\" + str(w1) + \", w2=\" + str(w2) + \", w3=\" + str(w3))\n",
    "\n",
    "sample['meter_reading'] = w1 * test_df.pred1 +  w2 * test_df.pred3  + w3 * test_df.pred2\n",
    "sample.loc[sample.meter_reading < 0, 'meter_reading'] = 0"
   ]
  },
  {
   "cell_type": "code",
   "execution_count": 25,
   "metadata": {},
   "outputs": [],
   "source": [
    "leak_df = leak_df[['meter_reading', 'row_id']].set_index('row_id').dropna()\n",
    "sample.loc[leak_df.index, 'meter_reading'] = leak_df['meter_reading']"
   ]
  },
  {
   "cell_type": "code",
   "execution_count": 26,
   "metadata": {},
   "outputs": [],
   "source": [
    "sample.to_csv('blend1.csv', index=False, float_format='%.4f')\n"
   ]
  }
 ],
 "metadata": {
  "kernelspec": {
   "display_name": "Python 3",
   "language": "python",
   "name": "python3"
  },
  "language_info": {
   "codemirror_mode": {
    "name": "ipython",
    "version": 3
   },
   "file_extension": ".py",
   "mimetype": "text/x-python",
   "name": "python",
   "nbconvert_exporter": "python",
   "pygments_lexer": "ipython3",
   "version": "3.6.6"
  }
 },
 "nbformat": 4,
 "nbformat_minor": 1
}
